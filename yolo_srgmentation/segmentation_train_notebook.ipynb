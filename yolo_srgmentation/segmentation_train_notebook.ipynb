{
 "metadata": {
  "kernelspec": {
   "language": "python",
   "display_name": "Python 3",
   "name": "python3"
  },
  "language_info": {
   "name": "python",
   "version": "3.10.13",
   "mimetype": "text/x-python",
   "codemirror_mode": {
    "name": "ipython",
    "version": 3
   },
   "pygments_lexer": "ipython3",
   "nbconvert_exporter": "python",
   "file_extension": ".py"
  },
  "kaggle": {
   "accelerator": "gpu",
   "dataSources": [
    {
     "sourceId": 6021726,
     "sourceType": "datasetVersion",
     "datasetId": 3446188
    },
    {
     "sourceId": 8712465,
     "sourceType": "datasetVersion",
     "datasetId": 5225353
    }
   ],
   "dockerImageVersionId": 30733,
   "isInternetEnabled": true,
   "language": "python",
   "sourceType": "notebook",
   "isGpuEnabled": true
  }
 },
 "nbformat_minor": 4,
 "nbformat": 4,
 "cells": [
  {
   "cell_type": "code",
   "source": "!git clone https://github.com/ultralytics/JSON2YOLO.git",
   "metadata": {
    "execution": {
     "iopub.status.busy": "2024-06-26T10:24:42.038292Z",
     "iopub.execute_input": "2024-06-26T10:24:42.038556Z",
     "iopub.status.idle": "2024-06-26T10:24:43.548530Z",
     "shell.execute_reply.started": "2024-06-26T10:24:42.038532Z",
     "shell.execute_reply": "2024-06-26T10:24:43.547399Z"
    },
    "trusted": true
   },
   "execution_count": 1,
   "outputs": [
    {
     "name": "stdout",
     "text": "Cloning into 'JSON2YOLO'...\nremote: Enumerating objects: 394, done.\u001B[K\nremote: Counting objects: 100% (258/258), done.\u001B[K\nremote: Compressing objects: 100% (73/73), done.\u001B[K\nremote: Total 394 (delta 226), reused 195 (delta 183), pack-reused 136\u001B[K\nReceiving objects: 100% (394/394), 111.11 KiB | 8.55 MiB/s, done.\nResolving deltas: 100% (242/242), done.\n",
     "output_type": "stream"
    }
   ]
  },
  {
   "cell_type": "code",
   "source": "import sys\nsys.path.append('/kaggle/working/JSON2YOLO')",
   "metadata": {
    "execution": {
     "iopub.status.busy": "2024-06-26T10:24:43.551033Z",
     "iopub.execute_input": "2024-06-26T10:24:43.551483Z",
     "iopub.status.idle": "2024-06-26T10:24:43.556721Z",
     "shell.execute_reply.started": "2024-06-26T10:24:43.551442Z",
     "shell.execute_reply": "2024-06-26T10:24:43.555737Z"
    },
    "trusted": true
   },
   "execution_count": 2,
   "outputs": []
  },
  {
   "cell_type": "code",
   "source": "from general_json2yolo import convert_coco_json",
   "metadata": {
    "_uuid": "8f2839f25d086af736a60e9eeb907d3b93b6e0e5",
    "_cell_guid": "b1076dfc-b9ad-4769-8c92-a6c4dae69d19",
    "execution": {
     "iopub.status.busy": "2024-06-26T10:24:43.561628Z",
     "iopub.execute_input": "2024-06-26T10:24:43.561880Z",
     "iopub.status.idle": "2024-06-26T10:24:44.950320Z",
     "shell.execute_reply.started": "2024-06-26T10:24:43.561858Z",
     "shell.execute_reply": "2024-06-26T10:24:44.949413Z"
    },
    "trusted": true
   },
   "execution_count": 3,
   "outputs": []
  },
  {
   "cell_type": "code",
   "source": "convert_coco_json('/kaggle/input/livecell', use_segments=True)",
   "metadata": {
    "execution": {
     "iopub.status.busy": "2024-06-26T10:24:44.951474Z",
     "iopub.execute_input": "2024-06-26T10:24:44.951861Z",
     "iopub.status.idle": "2024-06-26T10:27:44.105926Z",
     "shell.execute_reply.started": "2024-06-26T10:24:44.951830Z",
     "shell.execute_reply": "2024-06-26T10:27:44.105006Z"
    },
    "trusted": true
   },
   "execution_count": 4,
   "outputs": [
    {
     "name": "stderr",
     "text": "Annotations /kaggle/input/livecell/livecell_coco_test.json: 100%|██████████| 1564/1564 [00:31<00:00, 50.40it/s] \nAnnotations /kaggle/input/livecell/livecell_coco_train.json: 100%|██████████| 3253/3253 [01:08<00:00, 47.25it/s] \nAnnotations /kaggle/input/livecell/livecell_coco_val.json: 100%|██████████| 570/570 [00:11<00:00, 48.57it/s] \n",
     "output_type": "stream"
    }
   ]
  },
  {
   "cell_type": "code",
   "source": "import json\nimport shutil\nimport os\n\n\ndef copy_images_from_coco_json(coco_json_file, source_dir, target_dir):\n    with open(coco_json_file, 'r') as f:\n        data = json.load(f)\n\n    if 'images' not in data:\n        print(\"Помилка: JSON файл не містить ключ 'images'\")\n        return\n\n    images = data['images']\n    \n    for image_info in images:\n        image_path = os.path.join(source_dir, image_info['file_name'])\n\n        if os.path.exists(image_path):\n            image_name = os.path.basename(image_path)\n            target_path = os.path.join(target_dir, image_name)\n\n            os.makedirs(target_dir, exist_ok=True)\n            shutil.copy(image_path, target_path)\n        else:\n            print(f\"Попередження: Зображення {image_path} не знайдено!\")\n\n    print(\"Процес копіювання завершено.\")\n\ncoco_json_file = '/kaggle/input/livecell/livecell_coco_test.json'\nsource_directory = '/kaggle/input/livecell/images/'\ntarget_directory = '/kaggle/working/copied_images/'\n\ncopy_images_from_coco_json('/kaggle/input/livecell/livecell_coco_test.json',\n                           '/kaggle/input/livecell/images/images/livecell_test_images', \n                           '/kaggle/working/new_dir/images/livecell_coco_test')\n\ncopy_images_from_coco_json('/kaggle/input/livecell/livecell_coco_train.json',\n                           '/kaggle/input/livecell/images/images/livecell_train_val_images', \n                           '/kaggle/working/new_dir/images/livecell_coco_train')\n\ncopy_images_from_coco_json('/kaggle/input/livecell/livecell_coco_val.json',\n                           '/kaggle/input/livecell/images/images/livecell_train_val_images', \n                           '/kaggle/working/new_dir/images/livecell_coco_val')\n",
   "metadata": {
    "execution": {
     "iopub.status.busy": "2024-06-26T10:27:44.107220Z",
     "iopub.execute_input": "2024-06-26T10:27:44.107508Z",
     "iopub.status.idle": "2024-06-26T10:29:28.139345Z",
     "shell.execute_reply.started": "2024-06-26T10:27:44.107483Z",
     "shell.execute_reply": "2024-06-26T10:29:28.138368Z"
    },
    "trusted": true
   },
   "execution_count": 5,
   "outputs": [
    {
     "name": "stdout",
     "text": "Процес копіювання завершено.\nПроцес копіювання завершено.\nПроцес копіювання завершено.\n",
     "output_type": "stream"
    }
   ]
  },
  {
   "cell_type": "code",
   "source": "import yaml\n\nnames = ['cell']\n\nd = {\n        \"path\": '/kaggle/working/new_dir',\n        \"train\": '/kaggle/working/new_dir/images/livecell_coco_train',\n        \"val\": \"/kaggle/working/new_dir/images/livecell_coco_val\",\n        \"test\": \"/kaggle/working/new_dir/images/livecell_coco_test\",\n        \"nc\": len(names),\n        \"names\": names,\n}  # dictionary\n\nwith open('/kaggle/working/new_dir/dataset.yaml', \"w\") as f:\n    yaml.dump(d, f, sort_keys=False)",
   "metadata": {
    "execution": {
     "iopub.status.busy": "2024-06-26T10:33:51.181001Z",
     "iopub.execute_input": "2024-06-26T10:33:51.181382Z",
     "iopub.status.idle": "2024-06-26T10:33:51.188474Z",
     "shell.execute_reply.started": "2024-06-26T10:33:51.181353Z",
     "shell.execute_reply": "2024-06-26T10:33:51.187572Z"
    },
    "trusted": true
   },
   "execution_count": 16,
   "outputs": []
  },
  {
   "cell_type": "code",
   "source": "import shutil\nimport os\nimport sys\nfrom colorama import Fore",
   "metadata": {
    "execution": {
     "iopub.status.busy": "2024-06-26T10:33:51.966149Z",
     "iopub.execute_input": "2024-06-26T10:33:51.966495Z",
     "iopub.status.idle": "2024-06-26T10:33:51.971019Z",
     "shell.execute_reply.started": "2024-06-26T10:33:51.966468Z",
     "shell.execute_reply": "2024-06-26T10:33:51.970052Z"
    },
    "trusted": true
   },
   "execution_count": 17,
   "outputs": []
  },
  {
   "cell_type": "code",
   "source": "class SetupPipline:\n    def __init__(self, display: bool = True):\n        self.pycocotools = self.__pycocotools()\n        self.ultralytics = self.__ultralytics()\n        \n    @staticmethod\n    def __ultralytics() -> str:\n        sys.path.append(\"/kaggle/input/hubmap-tools-ultralytics-and-pycocotools/ultralytics/ultralytics\") \n        return \"successfully\"\n        \n    @staticmethod\n    def __pycocotools() -> str:\n        if not os.path.exists(\"/kaggle/working/packages\"):\n            shutil.copytree(\"/kaggle/input/hubmap-tools-ultralytics-and-pycocotools/pycocotools/pycocotools\", \"/kaggle/working/packages\")\n            os.chdir(\"/kaggle/working/packages/pycocotools-2.0.6/\")\n            os.system(\"python setup.py install\")\n            os.system(\"pip install . --no-index --find-links /kaggle/working/packages/\")\n            os.chdir(\"/kaggle/working\")\n            return \"successfully\"\n    \n    def display(self) -> None:\n        print(Fore.GREEN+f\"\\nPycocotools was installed {self.pycocotools}\")\n        print(f\"Ultralytics was installed {self.ultralytics}\"+Fore.WHITE)",
   "metadata": {
    "execution": {
     "iopub.status.busy": "2024-06-26T10:33:52.134507Z",
     "iopub.execute_input": "2024-06-26T10:33:52.135224Z",
     "iopub.status.idle": "2024-06-26T10:33:52.142233Z",
     "shell.execute_reply.started": "2024-06-26T10:33:52.135198Z",
     "shell.execute_reply": "2024-06-26T10:33:52.141224Z"
    },
    "trusted": true
   },
   "execution_count": 18,
   "outputs": []
  },
  {
   "cell_type": "code",
   "source": "pipline = SetupPipline()",
   "metadata": {
    "execution": {
     "iopub.status.busy": "2024-06-26T10:33:52.335206Z",
     "iopub.execute_input": "2024-06-26T10:33:52.336131Z",
     "iopub.status.idle": "2024-06-26T10:33:52.339889Z",
     "shell.execute_reply.started": "2024-06-26T10:33:52.336103Z",
     "shell.execute_reply": "2024-06-26T10:33:52.338976Z"
    },
    "trusted": true
   },
   "execution_count": 19,
   "outputs": []
  },
  {
   "cell_type": "code",
   "source": "pipline.display()",
   "metadata": {
    "execution": {
     "iopub.status.busy": "2024-06-26T10:33:53.851191Z",
     "iopub.execute_input": "2024-06-26T10:33:53.851589Z",
     "iopub.status.idle": "2024-06-26T10:33:53.856769Z",
     "shell.execute_reply.started": "2024-06-26T10:33:53.851552Z",
     "shell.execute_reply": "2024-06-26T10:33:53.855725Z"
    },
    "trusted": true
   },
   "execution_count": 20,
   "outputs": [
    {
     "name": "stdout",
     "text": "\u001B[32m\nPycocotools was installed None\nUltralytics was installed successfully\u001B[37m\n",
     "output_type": "stream"
    }
   ]
  },
  {
   "cell_type": "code",
   "source": "from pycocotools import _mask as coco_mask \nfrom ultralytics import YOLO",
   "metadata": {
    "execution": {
     "iopub.status.busy": "2024-06-26T10:33:54.386994Z",
     "iopub.execute_input": "2024-06-26T10:33:54.387320Z",
     "iopub.status.idle": "2024-06-26T10:33:54.391611Z",
     "shell.execute_reply.started": "2024-06-26T10:33:54.387295Z",
     "shell.execute_reply": "2024-06-26T10:33:54.390778Z"
    },
    "trusted": true
   },
   "execution_count": 21,
   "outputs": []
  },
  {
   "cell_type": "code",
   "source": "def main():\n    model = YOLO(\"yolov8x-seg.pt\")\n    model.train(\n        project=\"live-cell\",\n        name=\"yolov8x-seg\",\n\n        deterministic=True,\n        seed=43,\n\n        data=\"/kaggle/working/new_dir/dataset.yaml\", \n        save=True,\n        save_period=5,\n        pretrained=True,\n        imgsz=512,\n\n        epochs=20,\n        batch=4,\n        workers=8,\n        val=True,\n        device=0,\n\n        lr0=0.018,\n        patience=3,\n        optimizer=\"SGD\",\n        momentum=0.947,\n        weight_decay=0.0005,\n        close_mosaic=3,\n    )",
   "metadata": {
    "execution": {
     "iopub.status.busy": "2024-06-26T10:33:55.057918Z",
     "iopub.execute_input": "2024-06-26T10:33:55.058294Z",
     "iopub.status.idle": "2024-06-26T10:33:55.064720Z",
     "shell.execute_reply.started": "2024-06-26T10:33:55.058267Z",
     "shell.execute_reply": "2024-06-26T10:33:55.063832Z"
    },
    "trusted": true
   },
   "execution_count": 22,
   "outputs": []
  },
  {
   "cell_type": "code",
   "source": "main()",
   "metadata": {
    "execution": {
     "iopub.status.busy": "2024-06-26T10:33:55.615681Z",
     "iopub.execute_input": "2024-06-26T10:33:55.616031Z"
    },
    "trusted": true
   },
   "execution_count": null,
   "outputs": [
    {
     "name": "stderr",
     "text": "New https://pypi.org/project/ultralytics/8.2.42 available 😃 Update with 'pip install -U ultralytics'\nUltralytics YOLOv8.0.120 🚀 Python-3.10.13 torch-2.1.2 CUDA:0 (Tesla P100-PCIE-16GB, 16276MiB)\n\u001B[34m\u001B[1myolo/engine/trainer: \u001B[0mtask=segment, mode=train, model=yolov8x-seg.pt, data=/kaggle/working/new_dir/dataset.yaml, epochs=20, patience=3, batch=4, imgsz=512, save=True, save_period=5, cache=False, device=0, workers=8, project=live-cell, name=yolov8x-seg, exist_ok=False, pretrained=True, optimizer=SGD, verbose=True, seed=43, deterministic=True, single_cls=False, rect=False, cos_lr=False, close_mosaic=3, resume=False, amp=True, fraction=1.0, profile=False, overlap_mask=True, mask_ratio=4, dropout=0.0, val=True, split=val, save_json=False, save_hybrid=False, conf=None, iou=0.7, max_det=300, half=False, dnn=False, plots=True, source=None, show=False, save_txt=False, save_conf=False, save_crop=False, show_labels=True, show_conf=True, vid_stride=1, line_width=None, visualize=False, augment=False, agnostic_nms=False, classes=None, retina_masks=False, boxes=True, format=torchscript, keras=False, optimize=False, int8=False, dynamic=False, simplify=False, opset=None, workspace=4, nms=False, lr0=0.018, lrf=0.01, momentum=0.947, weight_decay=0.0005, warmup_epochs=3.0, warmup_momentum=0.8, warmup_bias_lr=0.1, box=7.5, cls=0.5, dfl=1.5, pose=12.0, kobj=1.0, label_smoothing=0.0, nbs=64, hsv_h=0.015, hsv_s=0.7, hsv_v=0.4, degrees=0.0, translate=0.1, scale=0.5, shear=0.0, perspective=0.0, flipud=0.0, fliplr=0.5, mosaic=1.0, mixup=0.0, copy_paste=0.0, cfg=None, v5loader=False, tracker=botsort.yaml, save_dir=live-cell/yolov8x-seg3\nDownloading https://ultralytics.com/assets/Arial.ttf to /root/.config/Ultralytics/Arial.ttf...\n100%|██████████| 755k/755k [00:00<00:00, 21.7MB/s]\n2024-06-26 10:33:58,211\tINFO util.py:124 -- Outdated packages:\n  ipywidgets==7.7.1 found, needs ipywidgets>=8\nRun `pip install -U ipywidgets`, then restart the notebook server for rich notebook output.\n2024-06-26 10:33:58,713\tINFO util.py:124 -- Outdated packages:\n  ipywidgets==7.7.1 found, needs ipywidgets>=8\nRun `pip install -U ipywidgets`, then restart the notebook server for rich notebook output.\n2024-06-26 10:34:01.421430: E external/local_xla/xla/stream_executor/cuda/cuda_dnn.cc:9261] Unable to register cuDNN factory: Attempting to register factory for plugin cuDNN when one has already been registered\n2024-06-26 10:34:01.421521: E external/local_xla/xla/stream_executor/cuda/cuda_fft.cc:607] Unable to register cuFFT factory: Attempting to register factory for plugin cuFFT when one has already been registered\n2024-06-26 10:34:01.564873: E external/local_xla/xla/stream_executor/cuda/cuda_blas.cc:1515] Unable to register cuBLAS factory: Attempting to register factory for plugin cuBLAS when one has already been registered\nOverriding model.yaml nc=80 with nc=1\n\n                   from  n    params  module                                       arguments                     \n  0                  -1  1      2320  ultralytics.nn.modules.conv.Conv             [3, 80, 3, 2]                 \n  1                  -1  1    115520  ultralytics.nn.modules.conv.Conv             [80, 160, 3, 2]               \n  2                  -1  3    436800  ultralytics.nn.modules.block.C2f             [160, 160, 3, True]           \n  3                  -1  1    461440  ultralytics.nn.modules.conv.Conv             [160, 320, 3, 2]              \n  4                  -1  6   3281920  ultralytics.nn.modules.block.C2f             [320, 320, 6, True]           \n  5                  -1  1   1844480  ultralytics.nn.modules.conv.Conv             [320, 640, 3, 2]              \n  6                  -1  6  13117440  ultralytics.nn.modules.block.C2f             [640, 640, 6, True]           \n  7                  -1  1   3687680  ultralytics.nn.modules.conv.Conv             [640, 640, 3, 2]              \n  8                  -1  3   6969600  ultralytics.nn.modules.block.C2f             [640, 640, 3, True]           \n  9                  -1  1   1025920  ultralytics.nn.modules.block.SPPF            [640, 640, 5]                 \n 10                  -1  1         0  torch.nn.modules.upsampling.Upsample         [None, 2, 'nearest']          \n 11             [-1, 6]  1         0  ultralytics.nn.modules.conv.Concat           [1]                           \n 12                  -1  3   7379200  ultralytics.nn.modules.block.C2f             [1280, 640, 3]                \n 13                  -1  1         0  torch.nn.modules.upsampling.Upsample         [None, 2, 'nearest']          \n 14             [-1, 4]  1         0  ultralytics.nn.modules.conv.Concat           [1]                           \n 15                  -1  3   1948800  ultralytics.nn.modules.block.C2f             [960, 320, 3]                 \n 16                  -1  1    922240  ultralytics.nn.modules.conv.Conv             [320, 320, 3, 2]              \n 17            [-1, 12]  1         0  ultralytics.nn.modules.conv.Concat           [1]                           \n 18                  -1  3   7174400  ultralytics.nn.modules.block.C2f             [960, 640, 3]                 \n 19                  -1  1   3687680  ultralytics.nn.modules.conv.Conv             [640, 640, 3, 2]              \n 20             [-1, 9]  1         0  ultralytics.nn.modules.conv.Concat           [1]                           \n 21                  -1  3   7379200  ultralytics.nn.modules.block.C2f             [1280, 640, 3]                \n 22        [15, 18, 21]  1  12317171  ultralytics.nn.modules.head.Segment          [1, 32, 320, [320, 640, 640]] \nYOLOv8x-seg summary: 401 layers, 71751811 parameters, 71751795 gradients\n\nTransferred 651/657 items from pretrained weights\n\u001B[34m\u001B[1mTensorBoard: \u001B[0mStart with 'tensorboard --logdir live-cell/yolov8x-seg3', view at http://localhost:6006/\n\u001B[34m\u001B[1mwandb\u001B[0m: Logging into wandb.ai. (Learn how to deploy a W&B server locally: https://wandb.me/wandb-server)\n\u001B[34m\u001B[1mwandb\u001B[0m: You can find your API key in your browser here: https://wandb.ai/authorize\n\u001B[34m\u001B[1mwandb\u001B[0m: Paste an API key from your profile and hit enter, or press ctrl+c to quit:",
     "output_type": "stream"
    },
    {
     "output_type": "stream",
     "name": "stdin",
     "text": "  ········································\n"
    },
    {
     "name": "stderr",
     "text": "\u001B[34m\u001B[1mwandb\u001B[0m: Appending key for api.wandb.ai to your netrc file: /root/.netrc\n",
     "output_type": "stream"
    },
    {
     "output_type": "display_data",
     "data": {
      "text/plain": "<IPython.core.display.HTML object>",
      "text/html": "wandb version 0.17.3 is available!  To upgrade, please run:\n $ pip install wandb --upgrade"
     },
     "metadata": {}
    },
    {
     "output_type": "display_data",
     "data": {
      "text/plain": "<IPython.core.display.HTML object>",
      "text/html": "Tracking run with wandb version 0.17.0"
     },
     "metadata": {}
    },
    {
     "output_type": "display_data",
     "data": {
      "text/plain": "<IPython.core.display.HTML object>",
      "text/html": "Run data is saved locally in <code>/kaggle/working/wandb/run-20240626_103423-jo7clq3w</code>"
     },
     "metadata": {}
    },
    {
     "output_type": "display_data",
     "data": {
      "text/plain": "<IPython.core.display.HTML object>",
      "text/html": "Syncing run <strong><a href='https://wandb.ai/olexsandr-shyshchuk/live-cell/runs/jo7clq3w' target=\"_blank\">yolov8x-seg</a></strong> to <a href='https://wandb.ai/olexsandr-shyshchuk/live-cell' target=\"_blank\">Weights & Biases</a> (<a href='https://wandb.me/run' target=\"_blank\">docs</a>)<br/>"
     },
     "metadata": {}
    },
    {
     "output_type": "display_data",
     "data": {
      "text/plain": "<IPython.core.display.HTML object>",
      "text/html": " View project at <a href='https://wandb.ai/olexsandr-shyshchuk/live-cell' target=\"_blank\">https://wandb.ai/olexsandr-shyshchuk/live-cell</a>"
     },
     "metadata": {}
    },
    {
     "output_type": "display_data",
     "data": {
      "text/plain": "<IPython.core.display.HTML object>",
      "text/html": " View run at <a href='https://wandb.ai/olexsandr-shyshchuk/live-cell/runs/jo7clq3w' target=\"_blank\">https://wandb.ai/olexsandr-shyshchuk/live-cell/runs/jo7clq3w</a>"
     },
     "metadata": {}
    },
    {
     "name": "stderr",
     "text": "\u001B[34m\u001B[1mAMP: \u001B[0mrunning Automatic Mixed Precision (AMP) checks with YOLOv8n...\nDownloading https://github.com/ultralytics/assets/releases/download/v0.0.0/yolov8n.pt to yolov8n.pt...\n100%|██████████| 6.23M/6.23M [00:00<00:00, 107MB/s]\n\u001B[34m\u001B[1mAMP: \u001B[0mchecks passed ✅\n\u001B[34m\u001B[1mtrain: \u001B[0mScanning /kaggle/working/new_dir/labels/livecell_coco_train... 3188 images, 0 backgrounds, 0 corrupt: 100%|██████████| 3188/3188 [00:32<00:00, 97.17it/s] \n\u001B[34m\u001B[1mtrain: \u001B[0mWARNING ⚠️ /kaggle/working/new_dir/images/livecell_coco_train/BV2_Phase_D4_2_02d12h00m_4.tif: 2 duplicate labels removed\n\u001B[34m\u001B[1mtrain: \u001B[0mWARNING ⚠️ /kaggle/working/new_dir/images/livecell_coco_train/BV2_Phase_D4_2_02d16h00m_4.tif: 1 duplicate labels removed\n\u001B[34m\u001B[1mtrain: \u001B[0mNew cache created: /kaggle/working/new_dir/labels/livecell_coco_train.cache\n\u001B[34m\u001B[1malbumentations: \u001B[0mBlur(p=0.01, blur_limit=(3, 7)), MedianBlur(p=0.01, blur_limit=(3, 7)), ToGray(p=0.01), CLAHE(p=0.01, clip_limit=(1, 4.0), tile_grid_size=(8, 8))\n/opt/conda/lib/python3.10/multiprocessing/popen_fork.py:66: RuntimeWarning: os.fork() was called. os.fork() is incompatible with multithreaded code, and JAX is multithreaded, so this will likely lead to a deadlock.\n  self.pid = os.fork()\n\u001B[34m\u001B[1mval: \u001B[0mScanning /kaggle/working/new_dir/labels/livecell_coco_val... 568 images, 1 backgrounds, 0 corrupt: 100%|██████████| 569/569 [00:11<00:00, 50.78it/s]\n\u001B[34m\u001B[1mval: \u001B[0mNew cache created: /kaggle/working/new_dir/labels/livecell_coco_val.cache\nPlotting labels to live-cell/yolov8x-seg3/labels.jpg... \n/opt/conda/lib/python3.10/site-packages/seaborn/_oldcore.py:1119: FutureWarning: use_inf_as_na option is deprecated and will be removed in a future version. Convert inf values to NaN before operating instead.\n  with pd.option_context('mode.use_inf_as_na', True):\n/opt/conda/lib/python3.10/site-packages/seaborn/_oldcore.py:1119: FutureWarning: use_inf_as_na option is deprecated and will be removed in a future version. Convert inf values to NaN before operating instead.\n  with pd.option_context('mode.use_inf_as_na', True):\n/opt/conda/lib/python3.10/site-packages/seaborn/_oldcore.py:1119: FutureWarning: use_inf_as_na option is deprecated and will be removed in a future version. Convert inf values to NaN before operating instead.\n  with pd.option_context('mode.use_inf_as_na', True):\n/opt/conda/lib/python3.10/site-packages/seaborn/_oldcore.py:1119: FutureWarning: use_inf_as_na option is deprecated and will be removed in a future version. Convert inf values to NaN before operating instead.\n  with pd.option_context('mode.use_inf_as_na', True):\n/opt/conda/lib/python3.10/site-packages/seaborn/_oldcore.py:1119: FutureWarning: use_inf_as_na option is deprecated and will be removed in a future version. Convert inf values to NaN before operating instead.\n  with pd.option_context('mode.use_inf_as_na', True):\n/opt/conda/lib/python3.10/site-packages/seaborn/_oldcore.py:1119: FutureWarning: use_inf_as_na option is deprecated and will be removed in a future version. Convert inf values to NaN before operating instead.\n  with pd.option_context('mode.use_inf_as_na', True):\n/opt/conda/lib/python3.10/site-packages/seaborn/_oldcore.py:1119: FutureWarning: use_inf_as_na option is deprecated and will be removed in a future version. Convert inf values to NaN before operating instead.\n  with pd.option_context('mode.use_inf_as_na', True):\n/opt/conda/lib/python3.10/site-packages/seaborn/_oldcore.py:1119: FutureWarning: use_inf_as_na option is deprecated and will be removed in a future version. Convert inf values to NaN before operating instead.\n  with pd.option_context('mode.use_inf_as_na', True):\n/opt/conda/lib/python3.10/site-packages/seaborn/_oldcore.py:1119: FutureWarning: use_inf_as_na option is deprecated and will be removed in a future version. Convert inf values to NaN before operating instead.\n  with pd.option_context('mode.use_inf_as_na', True):\n/opt/conda/lib/python3.10/site-packages/seaborn/_oldcore.py:1119: FutureWarning: use_inf_as_na option is deprecated and will be removed in a future version. Convert inf values to NaN before operating instead.\n  with pd.option_context('mode.use_inf_as_na', True):\n/opt/conda/lib/python3.10/site-packages/seaborn/_oldcore.py:1119: FutureWarning: use_inf_as_na option is deprecated and will be removed in a future version. Convert inf values to NaN before operating instead.\n  with pd.option_context('mode.use_inf_as_na', True):\n/opt/conda/lib/python3.10/site-packages/seaborn/_oldcore.py:1119: FutureWarning: use_inf_as_na option is deprecated and will be removed in a future version. Convert inf values to NaN before operating instead.\n  with pd.option_context('mode.use_inf_as_na', True):\n/opt/conda/lib/python3.10/site-packages/seaborn/_oldcore.py:1119: FutureWarning: use_inf_as_na option is deprecated and will be removed in a future version. Convert inf values to NaN before operating instead.\n  with pd.option_context('mode.use_inf_as_na', True):\n/opt/conda/lib/python3.10/site-packages/seaborn/_oldcore.py:1119: FutureWarning: use_inf_as_na option is deprecated and will be removed in a future version. Convert inf values to NaN before operating instead.\n  with pd.option_context('mode.use_inf_as_na', True):\n/opt/conda/lib/python3.10/site-packages/seaborn/_oldcore.py:1119: FutureWarning: use_inf_as_na option is deprecated and will be removed in a future version. Convert inf values to NaN before operating instead.\n  with pd.option_context('mode.use_inf_as_na', True):\n/opt/conda/lib/python3.10/site-packages/seaborn/_oldcore.py:1119: FutureWarning: use_inf_as_na option is deprecated and will be removed in a future version. Convert inf values to NaN before operating instead.\n  with pd.option_context('mode.use_inf_as_na', True):\n/opt/conda/lib/python3.10/site-packages/seaborn/_oldcore.py:1119: FutureWarning: use_inf_as_na option is deprecated and will be removed in a future version. Convert inf values to NaN before operating instead.\n  with pd.option_context('mode.use_inf_as_na', True):\n/opt/conda/lib/python3.10/site-packages/seaborn/_oldcore.py:1119: FutureWarning: use_inf_as_na option is deprecated and will be removed in a future version. Convert inf values to NaN before operating instead.\n  with pd.option_context('mode.use_inf_as_na', True):\n/opt/conda/lib/python3.10/site-packages/seaborn/_oldcore.py:1119: FutureWarning: use_inf_as_na option is deprecated and will be removed in a future version. Convert inf values to NaN before operating instead.\n  with pd.option_context('mode.use_inf_as_na', True):\n/opt/conda/lib/python3.10/site-packages/seaborn/_oldcore.py:1119: FutureWarning: use_inf_as_na option is deprecated and will be removed in a future version. Convert inf values to NaN before operating instead.\n  with pd.option_context('mode.use_inf_as_na', True):\n\u001B[34m\u001B[1moptimizer:\u001B[0m SGD(lr=0.018, momentum=0.947) with parameter groups 106 weight(decay=0.0), 117 weight(decay=0.0005), 116 bias(decay=0.0)\nImage sizes 512 train, 512 val\nUsing 4 dataloader workers\nLogging results to \u001B[1mlive-cell/yolov8x-seg3\u001B[0m\nStarting training for 20 epochs...\n\n      Epoch    GPU_mem   box_loss   seg_loss   cls_loss   dfl_loss  Instances       Size\n       1/20      11.4G      2.335      3.746      1.246      1.341       1228        512:  44%|████▍     | 354/797 [08:35<10:10,  1.38s/it]",
     "output_type": "stream"
    }
   ]
  },
  {
   "cell_type": "code",
   "source": "",
   "metadata": {},
   "execution_count": null,
   "outputs": []
  }
 ]
}
